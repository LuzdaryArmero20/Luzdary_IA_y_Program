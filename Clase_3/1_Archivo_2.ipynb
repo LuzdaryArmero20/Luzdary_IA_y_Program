{
 "cells": [
  {
   "cell_type": "markdown",
   "metadata": {},
   "source": [
    "# Se puede crear información o texto \n",
    "\n",
    "my_string = \"thisStringisAwesome\"\n",
    "my_string.upper()\n",
    "print(my_string)\n"
   ]
  },
  {
   "cell_type": "code",
   "execution_count": 26,
   "metadata": {},
   "outputs": [
    {
     "name": "stdout",
     "output_type": "stream",
     "text": [
      "12\n",
      "sección uno\n",
      "['a', 'b', 1, 1.8]\n",
      "<class 'float'>\n"
     ]
    }
   ],
   "source": [
    "\n",
    "# Variable entera\n",
    "\n",
    "variable_int = 12\n",
    "print(variable_int)\n",
    "print(\"sección uno\")\n",
    "\n",
    "my_string = \"thisStringisAwesome\"\n",
    "\n",
    "#Upper pone las letras en mayusculas \n",
    "my_string.upper()\n",
    "\n",
    "#lower popne las letras en minisculas \n",
    "my_string.lower()\n",
    "\n",
    "#Count srve para contar solo números\n",
    "my_string.count(\"th\")\n",
    "\n",
    "#replace sirve para reemplazar solo letras \n",
    "my_string.replace(\"i\",\"x\")\n",
    "my_string.replace(\"this\", \"those\")\n",
    "\n",
    "#concatenar une a los textos o variables (+) \n",
    "my_string_dos = \"texto dos\"\n",
    "\n",
    "my_string + my_string_dos\n",
    "\n",
    "#Realiza una busqueda \n",
    "\n",
    "\"m\" in my_string\n",
    "#Da como resultado true :verdadero\n",
    "\n",
    "\"ms\" in my_string\n",
    "#Da como resultado false: falso\n",
    "\n",
    "#En python se puede identificar que es una lista (cuanquier tipo de elementros)se hace referencia con []\n",
    "\n",
    "lista = [\"a\",\"b\", 1, 1.8]\n",
    "print(lista)\n",
    "\n",
    "#Sacar un valor de la lista contando desde cero\n",
    "\n",
    "print(type (lista [3]))\n",
    "\n",
    "# Podemos obtener el valor desde el inicio hasta el final definido\n",
    "\n",
    "print(type (lista [0:6]))\n",
    "\n",
    "#Lenguajes iniciando C++, Java, Python, C#\n"
   ]
  }
 ],
 "metadata": {
  "kernelspec": {
   "display_name": "Python 3",
   "language": "python",
   "name": "python3"
  },
  "language_info": {
   "codemirror_mode": {
    "name": "ipython",
    "version": 3
   },
   "file_extension": ".py",
   "mimetype": "text/x-python",
   "name": "python",
   "nbconvert_exporter": "python",
   "pygments_lexer": "ipython3",
   "version": "3.11.4"
  }
 },
 "nbformat": 4,
 "nbformat_minor": 2
}
